{
 "nbformat": 4,
 "nbformat_minor": 2,
 "metadata": {
  "language_info": {
   "name": "python",
   "codemirror_mode": {
    "name": "ipython",
    "version": 3
   },
   "version": "3.8.1-final"
  },
  "orig_nbformat": 2,
  "file_extension": ".py",
  "mimetype": "text/x-python",
  "name": "python",
  "npconvert_exporter": "python",
  "pygments_lexer": "ipython3",
  "version": 3,
  "kernelspec": {
   "name": "python3",
   "display_name": "Python 3"
  }
 },
 "cells": [
  {
   "cell_type": "code",
   "execution_count": 1,
   "metadata": {},
   "outputs": [],
   "source": [
    "import numpy as np\n",
    "import matplotlib.pyplot as plt\n",
    "import pandas as pd\n",
    "import matplotlib.pyplot as plt"
   ]
  },
  {
   "cell_type": "code",
   "execution_count": 3,
   "metadata": {},
   "outputs": [],
   "source": [
    "df = pd.read_csv('headbrain.csv')"
   ]
  },
  {
   "cell_type": "code",
   "execution_count": 4,
   "metadata": {},
   "outputs": [
    {
     "data": {
      "text/html": "<div>\n<style scoped>\n    .dataframe tbody tr th:only-of-type {\n        vertical-align: middle;\n    }\n\n    .dataframe tbody tr th {\n        vertical-align: top;\n    }\n\n    .dataframe thead th {\n        text-align: right;\n    }\n</style>\n<table border=\"1\" class=\"dataframe\">\n  <thead>\n    <tr style=\"text-align: right;\">\n      <th></th>\n      <th>Gender</th>\n      <th>Age Range</th>\n      <th>Head Size(cm^3)</th>\n      <th>Brain Weight(grams)</th>\n    </tr>\n  </thead>\n  <tbody>\n    <tr>\n      <td>0</td>\n      <td>1</td>\n      <td>1</td>\n      <td>4512</td>\n      <td>1530</td>\n    </tr>\n    <tr>\n      <td>1</td>\n      <td>1</td>\n      <td>1</td>\n      <td>3738</td>\n      <td>1297</td>\n    </tr>\n    <tr>\n      <td>2</td>\n      <td>1</td>\n      <td>1</td>\n      <td>4261</td>\n      <td>1335</td>\n    </tr>\n    <tr>\n      <td>3</td>\n      <td>1</td>\n      <td>1</td>\n      <td>3777</td>\n      <td>1282</td>\n    </tr>\n    <tr>\n      <td>4</td>\n      <td>1</td>\n      <td>1</td>\n      <td>4177</td>\n      <td>1590</td>\n    </tr>\n  </tbody>\n</table>\n</div>",
      "text/plain": "   Gender  Age Range  Head Size(cm^3)  Brain Weight(grams)\n0       1          1             4512                 1530\n1       1          1             3738                 1297\n2       1          1             4261                 1335\n3       1          1             3777                 1282\n4       1          1             4177                 1590"
     },
     "execution_count": 4,
     "metadata": {},
     "output_type": "execute_result"
    }
   ],
   "source": [
    "df.head()"
   ]
  },
  {
   "cell_type": "code",
   "execution_count": 5,
   "metadata": {},
   "outputs": [],
   "source": [
    "X = df.iloc[:, 2].values\n",
    "y = df.iloc[:, -1].values"
   ]
  },
  {
   "cell_type": "code",
   "execution_count": 0,
   "metadata": {},
   "outputs": [],
   "source": [
    "from sklearn.model_selection import train_test_split\n",
    "X_train, X_test, y_train, y_test = train_test_split(X, y, test_size=0.3)"
   ]
  },
  {
   "cell_type": "code",
   "execution_count": 0,
   "metadata": {},
   "outputs": [],
   "source": [
    "def coeff(X, y):\n",
    "    X_mean, y_mean = np.mean(X), np.mean(y)\n",
    "    numerator = np.sum((X - X_mean) * (y - y_mean))\n",
    "    denomenator = np.sum((X - X_mean) ** 2)\n",
    "    q1 = numerator / denomenator\n",
    "    q0 = y_mean - q1 * X_mean\n",
    "    return q0, q1\n",
    "q0, q1 = coeff(X_train, y_train)\n",
    "print(q0, q1)"
   ]
  },
  {
   "cell_type": "code",
   "execution_count": 0,
   "metadata": {},
   "outputs": [],
   "source": [
    "y_pred = q0 + q1 * X_test\n",
    "plt.scatter(X_test, y_test)\n",
    "plt.plot(X_test, y_pred, color='r')\n",
    "plt.xlabel('Head Size(cm^3)')\n",
    "plt.ylabel('Brain Weight(grams)')\n",
    "plt.show()"
   ]
  },
  {
   "cell_type": "code",
   "execution_count": 0,
   "metadata": {},
   "outputs": [],
   "source": [
    "def accuracy(X, y, q0, q1):\n",
    "    y_pred = q0 + q1 * X \n",
    "    n = len(X)\n",
    "    rss = np.sum((y - y_pred) ** 2)\n",
    "    rmse = np.sqrt((np.sum((y - y_pred) ** 2) / n)) \n",
    "    y_mean = np.mean(y)\n",
    "    tss = np.sum((y - y_mean) ** 2)\n",
    "    r2 = 1 - (rss / tss)\n",
    "    return r2, rmse\n",
    "train_r2, train_rmse = accuracy(X_train, y_train, q0, q1)\n",
    "test_r2, test_rmse = accuracy(X_test, y_test, q0, q1)\n",
    "print('Training rmse: {0} \\t Training r2: {1}'.format(train_rmse, train_r2))\n",
    "print('Testing rmse: {0} \\t Testing r2: {1}'.format(test_rmse, test_r2))"
   ]
  },
  {
   "cell_type": "code",
   "execution_count": null,
   "metadata": {},
   "outputs": [],
   "source": []
  },
  {
   "cell_type": "code",
   "execution_count": null,
   "metadata": {},
   "outputs": [],
   "source": []
  },
  {
   "cell_type": "code",
   "execution_count": null,
   "metadata": {},
   "outputs": [],
   "source": []
  },
  {
   "cell_type": "code",
   "execution_count": null,
   "metadata": {},
   "outputs": [],
   "source": []
  }
 ]
}