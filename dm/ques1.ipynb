{
 "nbformat": 4,
 "nbformat_minor": 2,
 "metadata": {
  "language_info": {
   "name": "python",
   "codemirror_mode": {
    "name": "ipython",
    "version": 3
   },
   "version": "3.7.4-final"
  },
  "orig_nbformat": 2,
  "file_extension": ".py",
  "mimetype": "text/x-python",
  "name": "python",
  "npconvert_exporter": "python",
  "pygments_lexer": "ipython3",
  "version": 3,
  "kernelspec": {
   "name": "python3",
   "display_name": "Python 3"
  }
 },
 "cells": [
  {
   "cell_type": "code",
   "execution_count": 2,
   "metadata": {},
   "outputs": [],
   "source": [
    "import pandas as pd"
   ]
  },
  {
   "cell_type": "code",
   "execution_count": 15,
   "metadata": {},
   "outputs": [
    {
     "data": {
      "text/html": "<div>\n<style scoped>\n    .dataframe tbody tr th:only-of-type {\n        vertical-align: middle;\n    }\n\n    .dataframe tbody tr th {\n        vertical-align: top;\n    }\n\n    .dataframe thead th {\n        text-align: right;\n    }\n</style>\n<table border=\"1\" class=\"dataframe\">\n  <thead>\n    <tr style=\"text-align: right;\">\n      <th></th>\n      <th>Age</th>\n      <th>agegroup</th>\n      <th>height</th>\n      <th>status</th>\n      <th>yearsmarried</th>\n    </tr>\n  </thead>\n  <tbody>\n    <tr>\n      <td>0</td>\n      <td>21</td>\n      <td>adult</td>\n      <td>6.0</td>\n      <td>single</td>\n      <td>-1</td>\n    </tr>\n    <tr>\n      <td>1</td>\n      <td>2</td>\n      <td>child</td>\n      <td>3.0</td>\n      <td>married</td>\n      <td>0</td>\n    </tr>\n    <tr>\n      <td>2</td>\n      <td>18</td>\n      <td>adult</td>\n      <td>5.7</td>\n      <td>married</td>\n      <td>20</td>\n    </tr>\n    <tr>\n      <td>3</td>\n      <td>221</td>\n      <td>elderly</td>\n      <td>5.0</td>\n      <td>widowed</td>\n      <td>2</td>\n    </tr>\n    <tr>\n      <td>4</td>\n      <td>34</td>\n      <td>child</td>\n      <td>-7.0</td>\n      <td>married</td>\n      <td>3</td>\n    </tr>\n  </tbody>\n</table>\n</div>",
      "text/plain": "   Age agegroup  height   status  yearsmarried\n0   21    adult     6.0   single            -1\n1    2    child     3.0  married             0\n2   18    adult     5.7  married            20\n3  221  elderly     5.0  widowed             2\n4   34    child    -7.0  married             3"
     },
     "execution_count": 15,
     "metadata": {},
     "output_type": "execute_result"
    }
   ],
   "source": [
    "df = pd.read_csv('people.txt', sep=' ')\n",
    "df"
   ]
  },
  {
   "cell_type": "code",
   "execution_count": 21,
   "metadata": {},
   "outputs": [],
   "source": [
    "def checkAge(df):\n",
    "    age_range = lambda r : r in range(151)\n",
    "    print(df[\"Age\"].apply(age_range))"
   ]
  },
  {
   "cell_type": "code",
   "execution_count": 22,
   "metadata": {},
   "outputs": [
    {
     "name": "stdout",
     "output_type": "stream",
     "text": "0     True\n1     True\n2     True\n3    False\n4     True\nName: Age, dtype: bool\n"
    }
   ],
   "source": [
    "checkAge(df)"
   ]
  },
  {
   "cell_type": "code",
   "execution_count": null,
   "metadata": {},
   "outputs": [],
   "source": []
  }
 ]
}