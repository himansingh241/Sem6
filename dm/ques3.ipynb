{
 "nbformat": 4,
 "nbformat_minor": 2,
 "metadata": {
  "language_info": {
   "name": "python",
   "codemirror_mode": {
    "name": "ipython",
    "version": 3
   },
   "version": "3.7.4-final"
  },
  "orig_nbformat": 2,
  "file_extension": ".py",
  "mimetype": "text/x-python",
  "name": "python",
  "npconvert_exporter": "python",
  "pygments_lexer": "ipython3",
  "version": 3,
  "kernelspec": {
   "name": "python3",
   "display_name": "Python 3"
  }
 },
 "cells": [
  {
   "cell_type": "code",
   "execution_count": 1,
   "metadata": {},
   "outputs": [],
   "source": [
    "import numpy as np\n",
    "import pandas as pd"
   ]
  },
  {
   "cell_type": "markdown",
   "execution_count": null,
   "metadata": {},
   "outputs": [],
   "source": [
    "# Wine Dataset"
   ]
  },
  {
   "cell_type": "code",
   "execution_count": 31,
   "metadata": {},
   "outputs": [
    {
     "data": {
      "text/html": "<div>\n<style scoped>\n    .dataframe tbody tr th:only-of-type {\n        vertical-align: middle;\n    }\n\n    .dataframe tbody tr th {\n        vertical-align: top;\n    }\n\n    .dataframe thead th {\n        text-align: right;\n    }\n</style>\n<table border=\"1\" class=\"dataframe\">\n  <thead>\n    <tr style=\"text-align: right;\">\n      <th></th>\n      <th>Wine</th>\n      <th>Alcohol</th>\n      <th>Malic.acid</th>\n      <th>Ash</th>\n      <th>Acl</th>\n      <th>Mg</th>\n      <th>Phenols</th>\n      <th>Flavanoids</th>\n      <th>Nonflavanoid.phenols</th>\n      <th>Proanth</th>\n      <th>Color.int</th>\n      <th>Hue</th>\n      <th>OD</th>\n      <th>Proline</th>\n    </tr>\n  </thead>\n  <tbody>\n    <tr>\n      <td>0</td>\n      <td>1</td>\n      <td>14.23</td>\n      <td>1.71</td>\n      <td>2.43</td>\n      <td>15.6</td>\n      <td>127</td>\n      <td>2.80</td>\n      <td>3.06</td>\n      <td>0.28</td>\n      <td>2.29</td>\n      <td>5.64</td>\n      <td>1.04</td>\n      <td>3.92</td>\n      <td>1065</td>\n    </tr>\n    <tr>\n      <td>1</td>\n      <td>1</td>\n      <td>13.20</td>\n      <td>1.78</td>\n      <td>2.14</td>\n      <td>11.2</td>\n      <td>100</td>\n      <td>2.65</td>\n      <td>2.76</td>\n      <td>0.26</td>\n      <td>1.28</td>\n      <td>4.38</td>\n      <td>1.05</td>\n      <td>3.40</td>\n      <td>1050</td>\n    </tr>\n    <tr>\n      <td>2</td>\n      <td>1</td>\n      <td>13.16</td>\n      <td>2.36</td>\n      <td>2.67</td>\n      <td>18.6</td>\n      <td>101</td>\n      <td>2.80</td>\n      <td>3.24</td>\n      <td>0.30</td>\n      <td>2.81</td>\n      <td>5.68</td>\n      <td>1.03</td>\n      <td>3.17</td>\n      <td>1185</td>\n    </tr>\n    <tr>\n      <td>3</td>\n      <td>1</td>\n      <td>14.37</td>\n      <td>1.95</td>\n      <td>2.50</td>\n      <td>16.8</td>\n      <td>113</td>\n      <td>3.85</td>\n      <td>3.49</td>\n      <td>0.24</td>\n      <td>2.18</td>\n      <td>7.80</td>\n      <td>0.86</td>\n      <td>3.45</td>\n      <td>1480</td>\n    </tr>\n    <tr>\n      <td>4</td>\n      <td>1</td>\n      <td>13.24</td>\n      <td>2.59</td>\n      <td>2.87</td>\n      <td>21.0</td>\n      <td>118</td>\n      <td>2.80</td>\n      <td>2.69</td>\n      <td>0.39</td>\n      <td>1.82</td>\n      <td>4.32</td>\n      <td>1.04</td>\n      <td>2.93</td>\n      <td>735</td>\n    </tr>\n  </tbody>\n</table>\n</div>",
      "text/plain": "   Wine  Alcohol  Malic.acid   Ash   Acl   Mg  Phenols  Flavanoids  \\\n0     1    14.23        1.71  2.43  15.6  127     2.80        3.06   \n1     1    13.20        1.78  2.14  11.2  100     2.65        2.76   \n2     1    13.16        2.36  2.67  18.6  101     2.80        3.24   \n3     1    14.37        1.95  2.50  16.8  113     3.85        3.49   \n4     1    13.24        2.59  2.87  21.0  118     2.80        2.69   \n\n   Nonflavanoid.phenols  Proanth  Color.int   Hue    OD  Proline  \n0                  0.28     2.29       5.64  1.04  3.92     1065  \n1                  0.26     1.28       4.38  1.05  3.40     1050  \n2                  0.30     2.81       5.68  1.03  3.17     1185  \n3                  0.24     2.18       7.80  0.86  3.45     1480  \n4                  0.39     1.82       4.32  1.04  2.93      735  "
     },
     "execution_count": 31,
     "metadata": {},
     "output_type": "execute_result"
    }
   ],
   "source": [
    "df = pd.read_csv(\"wine.csv\")\n",
    "df.head()"
   ]
  },
  {
   "cell_type": "code",
   "execution_count": 10,
   "metadata": {},
   "outputs": [
    {
     "data": {
      "text/html": "<div>\n<style scoped>\n    .dataframe tbody tr th:only-of-type {\n        vertical-align: middle;\n    }\n\n    .dataframe tbody tr th {\n        vertical-align: top;\n    }\n\n    .dataframe thead th {\n        text-align: right;\n    }\n</style>\n<table border=\"1\" class=\"dataframe\">\n  <thead>\n    <tr style=\"text-align: right;\">\n      <th></th>\n      <th>Wine</th>\n      <th>Alcohol</th>\n      <th>Malic.acid</th>\n      <th>Ash</th>\n      <th>Acl</th>\n      <th>Mg</th>\n      <th>Phenols</th>\n      <th>Flavanoids</th>\n      <th>Nonflavanoid.phenols</th>\n      <th>Proanth</th>\n      <th>Color.int</th>\n      <th>Hue</th>\n      <th>OD</th>\n      <th>Proline</th>\n    </tr>\n  </thead>\n  <tbody>\n    <tr>\n      <td>count</td>\n      <td>178.000000</td>\n      <td>178.000000</td>\n      <td>178.000000</td>\n      <td>178.000000</td>\n      <td>178.000000</td>\n      <td>178.000000</td>\n      <td>178.000000</td>\n      <td>178.000000</td>\n      <td>178.000000</td>\n      <td>178.000000</td>\n      <td>178.000000</td>\n      <td>178.000000</td>\n      <td>178.000000</td>\n      <td>178.000000</td>\n    </tr>\n    <tr>\n      <td>mean</td>\n      <td>1.938202</td>\n      <td>13.000618</td>\n      <td>2.336348</td>\n      <td>2.366517</td>\n      <td>19.494944</td>\n      <td>99.741573</td>\n      <td>2.295112</td>\n      <td>2.029270</td>\n      <td>0.361854</td>\n      <td>1.590899</td>\n      <td>5.058090</td>\n      <td>0.957449</td>\n      <td>2.611685</td>\n      <td>746.893258</td>\n    </tr>\n    <tr>\n      <td>std</td>\n      <td>0.775035</td>\n      <td>0.811827</td>\n      <td>1.117146</td>\n      <td>0.274344</td>\n      <td>3.339564</td>\n      <td>14.282484</td>\n      <td>0.625851</td>\n      <td>0.998859</td>\n      <td>0.124453</td>\n      <td>0.572359</td>\n      <td>2.318286</td>\n      <td>0.228572</td>\n      <td>0.709990</td>\n      <td>314.907474</td>\n    </tr>\n    <tr>\n      <td>min</td>\n      <td>1.000000</td>\n      <td>11.030000</td>\n      <td>0.740000</td>\n      <td>1.360000</td>\n      <td>10.600000</td>\n      <td>70.000000</td>\n      <td>0.980000</td>\n      <td>0.340000</td>\n      <td>0.130000</td>\n      <td>0.410000</td>\n      <td>1.280000</td>\n      <td>0.480000</td>\n      <td>1.270000</td>\n      <td>278.000000</td>\n    </tr>\n    <tr>\n      <td>25%</td>\n      <td>1.000000</td>\n      <td>12.362500</td>\n      <td>1.602500</td>\n      <td>2.210000</td>\n      <td>17.200000</td>\n      <td>88.000000</td>\n      <td>1.742500</td>\n      <td>1.205000</td>\n      <td>0.270000</td>\n      <td>1.250000</td>\n      <td>3.220000</td>\n      <td>0.782500</td>\n      <td>1.937500</td>\n      <td>500.500000</td>\n    </tr>\n    <tr>\n      <td>50%</td>\n      <td>2.000000</td>\n      <td>13.050000</td>\n      <td>1.865000</td>\n      <td>2.360000</td>\n      <td>19.500000</td>\n      <td>98.000000</td>\n      <td>2.355000</td>\n      <td>2.135000</td>\n      <td>0.340000</td>\n      <td>1.555000</td>\n      <td>4.690000</td>\n      <td>0.965000</td>\n      <td>2.780000</td>\n      <td>673.500000</td>\n    </tr>\n    <tr>\n      <td>75%</td>\n      <td>3.000000</td>\n      <td>13.677500</td>\n      <td>3.082500</td>\n      <td>2.557500</td>\n      <td>21.500000</td>\n      <td>107.000000</td>\n      <td>2.800000</td>\n      <td>2.875000</td>\n      <td>0.437500</td>\n      <td>1.950000</td>\n      <td>6.200000</td>\n      <td>1.120000</td>\n      <td>3.170000</td>\n      <td>985.000000</td>\n    </tr>\n    <tr>\n      <td>max</td>\n      <td>3.000000</td>\n      <td>14.830000</td>\n      <td>5.800000</td>\n      <td>3.230000</td>\n      <td>30.000000</td>\n      <td>162.000000</td>\n      <td>3.880000</td>\n      <td>5.080000</td>\n      <td>0.660000</td>\n      <td>3.580000</td>\n      <td>13.000000</td>\n      <td>1.710000</td>\n      <td>4.000000</td>\n      <td>1680.000000</td>\n    </tr>\n  </tbody>\n</table>\n</div>",
      "text/plain": "             Wine     Alcohol  Malic.acid         Ash         Acl          Mg  \\\ncount  178.000000  178.000000  178.000000  178.000000  178.000000  178.000000   \nmean     1.938202   13.000618    2.336348    2.366517   19.494944   99.741573   \nstd      0.775035    0.811827    1.117146    0.274344    3.339564   14.282484   \nmin      1.000000   11.030000    0.740000    1.360000   10.600000   70.000000   \n25%      1.000000   12.362500    1.602500    2.210000   17.200000   88.000000   \n50%      2.000000   13.050000    1.865000    2.360000   19.500000   98.000000   \n75%      3.000000   13.677500    3.082500    2.557500   21.500000  107.000000   \nmax      3.000000   14.830000    5.800000    3.230000   30.000000  162.000000   \n\n          Phenols  Flavanoids  Nonflavanoid.phenols     Proanth   Color.int  \\\ncount  178.000000  178.000000            178.000000  178.000000  178.000000   \nmean     2.295112    2.029270              0.361854    1.590899    5.058090   \nstd      0.625851    0.998859              0.124453    0.572359    2.318286   \nmin      0.980000    0.340000              0.130000    0.410000    1.280000   \n25%      1.742500    1.205000              0.270000    1.250000    3.220000   \n50%      2.355000    2.135000              0.340000    1.555000    4.690000   \n75%      2.800000    2.875000              0.437500    1.950000    6.200000   \nmax      3.880000    5.080000              0.660000    3.580000   13.000000   \n\n              Hue          OD      Proline  \ncount  178.000000  178.000000   178.000000  \nmean     0.957449    2.611685   746.893258  \nstd      0.228572    0.709990   314.907474  \nmin      0.480000    1.270000   278.000000  \n25%      0.782500    1.937500   500.500000  \n50%      0.965000    2.780000   673.500000  \n75%      1.120000    3.170000   985.000000  \nmax      1.710000    4.000000  1680.000000  "
     },
     "execution_count": 10,
     "metadata": {},
     "output_type": "execute_result"
    }
   ],
   "source": [
    "df.describe()"
   ]
  },
  {
   "cell_type": "code",
   "execution_count": 12,
   "metadata": {},
   "outputs": [
    {
     "data": {
      "text/html": "<div>\n<style scoped>\n    .dataframe tbody tr th:only-of-type {\n        vertical-align: middle;\n    }\n\n    .dataframe tbody tr th {\n        vertical-align: top;\n    }\n\n    .dataframe thead th {\n        text-align: right;\n    }\n</style>\n<table border=\"1\" class=\"dataframe\">\n  <thead>\n    <tr style=\"text-align: right;\">\n      <th></th>\n      <th>Wine</th>\n      <th>Alcohol</th>\n      <th>Malic.acid</th>\n      <th>Ash</th>\n      <th>Acl</th>\n      <th>Mg</th>\n      <th>Phenols</th>\n      <th>Flavanoids</th>\n      <th>Nonflavanoid.phenols</th>\n      <th>Proanth</th>\n      <th>Color.int</th>\n      <th>Hue</th>\n      <th>OD</th>\n      <th>Proline</th>\n    </tr>\n  </thead>\n  <tbody>\n    <tr>\n      <td>count</td>\n      <td>1.780000e+02</td>\n      <td>1.780000e+02</td>\n      <td>1.780000e+02</td>\n      <td>1.780000e+02</td>\n      <td>1.780000e+02</td>\n      <td>1.780000e+02</td>\n      <td>1.780000e+02</td>\n      <td>1.780000e+02</td>\n      <td>1.780000e+02</td>\n      <td>1.780000e+02</td>\n      <td>1.780000e+02</td>\n      <td>1.780000e+02</td>\n      <td>1.780000e+02</td>\n      <td>1.780000e+02</td>\n    </tr>\n    <tr>\n      <td>mean</td>\n      <td>-1.309814e-15</td>\n      <td>7.823954e-15</td>\n      <td>2.943962e-16</td>\n      <td>-4.082876e-15</td>\n      <td>-5.488743e-17</td>\n      <td>-7.609394e-17</td>\n      <td>1.234967e-16</td>\n      <td>9.580351e-16</td>\n      <td>-1.635396e-15</td>\n      <td>-1.666270e-15</td>\n      <td>-4.216353e-16</td>\n      <td>1.657850e-15</td>\n      <td>2.200487e-15</td>\n      <td>-1.341000e-16</td>\n    </tr>\n    <tr>\n      <td>std</td>\n      <td>1.000000e+00</td>\n      <td>1.000000e+00</td>\n      <td>1.000000e+00</td>\n      <td>1.000000e+00</td>\n      <td>1.000000e+00</td>\n      <td>1.000000e+00</td>\n      <td>1.000000e+00</td>\n      <td>1.000000e+00</td>\n      <td>1.000000e+00</td>\n      <td>1.000000e+00</td>\n      <td>1.000000e+00</td>\n      <td>1.000000e+00</td>\n      <td>1.000000e+00</td>\n      <td>1.000000e+00</td>\n    </tr>\n    <tr>\n      <td>min</td>\n      <td>-1.210529e+00</td>\n      <td>-2.427388e+00</td>\n      <td>-1.428952e+00</td>\n      <td>-3.668813e+00</td>\n      <td>-2.663505e+00</td>\n      <td>-2.082381e+00</td>\n      <td>-2.101318e+00</td>\n      <td>-1.691200e+00</td>\n      <td>-1.862979e+00</td>\n      <td>-2.063214e+00</td>\n      <td>-1.629691e+00</td>\n      <td>-2.088840e+00</td>\n      <td>-1.889723e+00</td>\n      <td>-1.488987e+00</td>\n    </tr>\n    <tr>\n      <td>25%</td>\n      <td>-1.210529e+00</td>\n      <td>-7.860275e-01</td>\n      <td>-6.568956e-01</td>\n      <td>-5.705131e-01</td>\n      <td>-6.871987e-01</td>\n      <td>-8.220960e-01</td>\n      <td>-8.829774e-01</td>\n      <td>-8.252115e-01</td>\n      <td>-7.380592e-01</td>\n      <td>-5.956034e-01</td>\n      <td>-7.928659e-01</td>\n      <td>-7.654033e-01</td>\n      <td>-9.495697e-01</td>\n      <td>-7.824306e-01</td>\n    </tr>\n    <tr>\n      <td>50%</td>\n      <td>7.973544e-02</td>\n      <td>6.082829e-02</td>\n      <td>-4.219218e-01</td>\n      <td>-2.375431e-02</td>\n      <td>1.514024e-03</td>\n      <td>-1.219377e-01</td>\n      <td>9.568993e-02</td>\n      <td>1.058511e-01</td>\n      <td>-1.755994e-01</td>\n      <td>-6.272092e-02</td>\n      <td>-1.587767e-01</td>\n      <td>3.303369e-02</td>\n      <td>2.370660e-01</td>\n      <td>-2.330629e-01</td>\n    </tr>\n    <tr>\n      <td>75%</td>\n      <td>1.370000e+00</td>\n      <td>8.337767e-01</td>\n      <td>6.679088e-01</td>\n      <td>6.961448e-01</td>\n      <td>6.003946e-01</td>\n      <td>5.082048e-01</td>\n      <td>8.067217e-01</td>\n      <td>8.466967e-01</td>\n      <td>6.078267e-01</td>\n      <td>6.274055e-01</td>\n      <td>4.925666e-01</td>\n      <td>7.111583e-01</td>\n      <td>7.863692e-01</td>\n      <td>7.561165e-01</td>\n    </tr>\n    <tr>\n      <td>max</td>\n      <td>1.370000e+00</td>\n      <td>2.253415e+00</td>\n      <td>3.100446e+00</td>\n      <td>3.147447e+00</td>\n      <td>3.145637e+00</td>\n      <td>4.359076e+00</td>\n      <td>2.532372e+00</td>\n      <td>3.054216e+00</td>\n      <td>2.395645e+00</td>\n      <td>3.475269e+00</td>\n      <td>3.425768e+00</td>\n      <td>3.292407e+00</td>\n      <td>1.955399e+00</td>\n      <td>2.963114e+00</td>\n    </tr>\n  </tbody>\n</table>\n</div>",
      "text/plain": "               Wine       Alcohol    Malic.acid           Ash           Acl  \\\ncount  1.780000e+02  1.780000e+02  1.780000e+02  1.780000e+02  1.780000e+02   \nmean  -1.309814e-15  7.823954e-15  2.943962e-16 -4.082876e-15 -5.488743e-17   \nstd    1.000000e+00  1.000000e+00  1.000000e+00  1.000000e+00  1.000000e+00   \nmin   -1.210529e+00 -2.427388e+00 -1.428952e+00 -3.668813e+00 -2.663505e+00   \n25%   -1.210529e+00 -7.860275e-01 -6.568956e-01 -5.705131e-01 -6.871987e-01   \n50%    7.973544e-02  6.082829e-02 -4.219218e-01 -2.375431e-02  1.514024e-03   \n75%    1.370000e+00  8.337767e-01  6.679088e-01  6.961448e-01  6.003946e-01   \nmax    1.370000e+00  2.253415e+00  3.100446e+00  3.147447e+00  3.145637e+00   \n\n                 Mg       Phenols    Flavanoids  Nonflavanoid.phenols  \\\ncount  1.780000e+02  1.780000e+02  1.780000e+02          1.780000e+02   \nmean  -7.609394e-17  1.234967e-16  9.580351e-16         -1.635396e-15   \nstd    1.000000e+00  1.000000e+00  1.000000e+00          1.000000e+00   \nmin   -2.082381e+00 -2.101318e+00 -1.691200e+00         -1.862979e+00   \n25%   -8.220960e-01 -8.829774e-01 -8.252115e-01         -7.380592e-01   \n50%   -1.219377e-01  9.568993e-02  1.058511e-01         -1.755994e-01   \n75%    5.082048e-01  8.067217e-01  8.466967e-01          6.078267e-01   \nmax    4.359076e+00  2.532372e+00  3.054216e+00          2.395645e+00   \n\n            Proanth     Color.int           Hue            OD       Proline  \ncount  1.780000e+02  1.780000e+02  1.780000e+02  1.780000e+02  1.780000e+02  \nmean  -1.666270e-15 -4.216353e-16  1.657850e-15  2.200487e-15 -1.341000e-16  \nstd    1.000000e+00  1.000000e+00  1.000000e+00  1.000000e+00  1.000000e+00  \nmin   -2.063214e+00 -1.629691e+00 -2.088840e+00 -1.889723e+00 -1.488987e+00  \n25%   -5.956034e-01 -7.928659e-01 -7.654033e-01 -9.495697e-01 -7.824306e-01  \n50%   -6.272092e-02 -1.587767e-01  3.303369e-02  2.370660e-01 -2.330629e-01  \n75%    6.274055e-01  4.925666e-01  7.111583e-01  7.863692e-01  7.561165e-01  \nmax    3.475269e+00  3.425768e+00  3.292407e+00  1.955399e+00  2.963114e+00  "
     },
     "execution_count": 12,
     "metadata": {},
     "output_type": "execute_result"
    }
   ],
   "source": [
    "df_standardized = df.apply(lambda x: (x - x.mean()) / x.std())\n",
    "df_standardized.describe()"
   ]
  },
  {
   "cell_type": "markdown",
   "execution_count": null,
   "metadata": {},
   "outputs": [],
   "source": [
    "# Using sklearn"
   ]
  },
  {
   "cell_type": "code",
   "execution_count": 32,
   "metadata": {},
   "outputs": [
    {
     "data": {
      "text/html": "<div>\n<style scoped>\n    .dataframe tbody tr th:only-of-type {\n        vertical-align: middle;\n    }\n\n    .dataframe tbody tr th {\n        vertical-align: top;\n    }\n\n    .dataframe thead th {\n        text-align: right;\n    }\n</style>\n<table border=\"1\" class=\"dataframe\">\n  <thead>\n    <tr style=\"text-align: right;\">\n      <th></th>\n      <th>0</th>\n      <th>1</th>\n      <th>2</th>\n      <th>3</th>\n      <th>4</th>\n      <th>5</th>\n      <th>6</th>\n      <th>7</th>\n      <th>8</th>\n      <th>9</th>\n      <th>10</th>\n      <th>11</th>\n      <th>12</th>\n      <th>13</th>\n    </tr>\n  </thead>\n  <tbody>\n    <tr>\n      <td>count</td>\n      <td>1.780000e+02</td>\n      <td>1.780000e+02</td>\n      <td>1.780000e+02</td>\n      <td>1.780000e+02</td>\n      <td>1.780000e+02</td>\n      <td>1.780000e+02</td>\n      <td>1.780000e+02</td>\n      <td>1.780000e+02</td>\n      <td>1.780000e+02</td>\n      <td>1.780000e+02</td>\n      <td>1.780000e+02</td>\n      <td>1.780000e+02</td>\n      <td>1.780000e+02</td>\n      <td>1.780000e+02</td>\n    </tr>\n    <tr>\n      <td>mean</td>\n      <td>-9.056426e-16</td>\n      <td>-8.619821e-16</td>\n      <td>-8.357859e-17</td>\n      <td>-8.657245e-16</td>\n      <td>-1.160121e-16</td>\n      <td>-1.995907e-17</td>\n      <td>-2.972030e-16</td>\n      <td>-4.016762e-16</td>\n      <td>4.079134e-16</td>\n      <td>-1.699639e-16</td>\n      <td>-1.247442e-18</td>\n      <td>3.717376e-16</td>\n      <td>2.919013e-16</td>\n      <td>-7.484650e-18</td>\n    </tr>\n    <tr>\n      <td>std</td>\n      <td>1.002821e+00</td>\n      <td>1.002821e+00</td>\n      <td>1.002821e+00</td>\n      <td>1.002821e+00</td>\n      <td>1.002821e+00</td>\n      <td>1.002821e+00</td>\n      <td>1.002821e+00</td>\n      <td>1.002821e+00</td>\n      <td>1.002821e+00</td>\n      <td>1.002821e+00</td>\n      <td>1.002821e+00</td>\n      <td>1.002821e+00</td>\n      <td>1.002821e+00</td>\n      <td>1.002821e+00</td>\n    </tr>\n    <tr>\n      <td>min</td>\n      <td>-1.213944e+00</td>\n      <td>-2.434235e+00</td>\n      <td>-1.432983e+00</td>\n      <td>-3.679162e+00</td>\n      <td>-2.671018e+00</td>\n      <td>-2.088255e+00</td>\n      <td>-2.107246e+00</td>\n      <td>-1.695971e+00</td>\n      <td>-1.868234e+00</td>\n      <td>-2.069034e+00</td>\n      <td>-1.634288e+00</td>\n      <td>-2.094732e+00</td>\n      <td>-1.895054e+00</td>\n      <td>-1.493188e+00</td>\n    </tr>\n    <tr>\n      <td>25%</td>\n      <td>-1.213944e+00</td>\n      <td>-7.882448e-01</td>\n      <td>-6.587486e-01</td>\n      <td>-5.721225e-01</td>\n      <td>-6.891372e-01</td>\n      <td>-8.244151e-01</td>\n      <td>-8.854682e-01</td>\n      <td>-8.275393e-01</td>\n      <td>-7.401412e-01</td>\n      <td>-5.972835e-01</td>\n      <td>-7.951025e-01</td>\n      <td>-7.675624e-01</td>\n      <td>-9.522483e-01</td>\n      <td>-7.846378e-01</td>\n    </tr>\n    <tr>\n      <td>50%</td>\n      <td>7.996036e-02</td>\n      <td>6.099988e-02</td>\n      <td>-4.231120e-01</td>\n      <td>-2.382132e-02</td>\n      <td>1.518295e-03</td>\n      <td>-1.222817e-01</td>\n      <td>9.595986e-02</td>\n      <td>1.061497e-01</td>\n      <td>-1.760948e-01</td>\n      <td>-6.289785e-02</td>\n      <td>-1.592246e-01</td>\n      <td>3.312687e-02</td>\n      <td>2.377348e-01</td>\n      <td>-2.337204e-01</td>\n    </tr>\n    <tr>\n      <td>75%</td>\n      <td>1.373864e+00</td>\n      <td>8.361286e-01</td>\n      <td>6.697929e-01</td>\n      <td>6.981085e-01</td>\n      <td>6.020883e-01</td>\n      <td>5.096384e-01</td>\n      <td>8.089974e-01</td>\n      <td>8.490851e-01</td>\n      <td>6.095413e-01</td>\n      <td>6.291754e-01</td>\n      <td>4.939560e-01</td>\n      <td>7.131644e-01</td>\n      <td>7.885875e-01</td>\n      <td>7.582494e-01</td>\n    </tr>\n    <tr>\n      <td>max</td>\n      <td>1.373864e+00</td>\n      <td>2.259772e+00</td>\n      <td>3.109192e+00</td>\n      <td>3.156325e+00</td>\n      <td>3.154511e+00</td>\n      <td>4.371372e+00</td>\n      <td>2.539515e+00</td>\n      <td>3.062832e+00</td>\n      <td>2.402403e+00</td>\n      <td>3.485073e+00</td>\n      <td>3.435432e+00</td>\n      <td>3.301694e+00</td>\n      <td>1.960915e+00</td>\n      <td>2.971473e+00</td>\n    </tr>\n  </tbody>\n</table>\n</div>",
      "text/plain": "                 0             1             2             3             4   \\\ncount  1.780000e+02  1.780000e+02  1.780000e+02  1.780000e+02  1.780000e+02   \nmean  -9.056426e-16 -8.619821e-16 -8.357859e-17 -8.657245e-16 -1.160121e-16   \nstd    1.002821e+00  1.002821e+00  1.002821e+00  1.002821e+00  1.002821e+00   \nmin   -1.213944e+00 -2.434235e+00 -1.432983e+00 -3.679162e+00 -2.671018e+00   \n25%   -1.213944e+00 -7.882448e-01 -6.587486e-01 -5.721225e-01 -6.891372e-01   \n50%    7.996036e-02  6.099988e-02 -4.231120e-01 -2.382132e-02  1.518295e-03   \n75%    1.373864e+00  8.361286e-01  6.697929e-01  6.981085e-01  6.020883e-01   \nmax    1.373864e+00  2.259772e+00  3.109192e+00  3.156325e+00  3.154511e+00   \n\n                 5             6             7             8             9   \\\ncount  1.780000e+02  1.780000e+02  1.780000e+02  1.780000e+02  1.780000e+02   \nmean  -1.995907e-17 -2.972030e-16 -4.016762e-16  4.079134e-16 -1.699639e-16   \nstd    1.002821e+00  1.002821e+00  1.002821e+00  1.002821e+00  1.002821e+00   \nmin   -2.088255e+00 -2.107246e+00 -1.695971e+00 -1.868234e+00 -2.069034e+00   \n25%   -8.244151e-01 -8.854682e-01 -8.275393e-01 -7.401412e-01 -5.972835e-01   \n50%   -1.222817e-01  9.595986e-02  1.061497e-01 -1.760948e-01 -6.289785e-02   \n75%    5.096384e-01  8.089974e-01  8.490851e-01  6.095413e-01  6.291754e-01   \nmax    4.371372e+00  2.539515e+00  3.062832e+00  2.402403e+00  3.485073e+00   \n\n                 10            11            12            13  \ncount  1.780000e+02  1.780000e+02  1.780000e+02  1.780000e+02  \nmean  -1.247442e-18  3.717376e-16  2.919013e-16 -7.484650e-18  \nstd    1.002821e+00  1.002821e+00  1.002821e+00  1.002821e+00  \nmin   -1.634288e+00 -2.094732e+00 -1.895054e+00 -1.493188e+00  \n25%   -7.951025e-01 -7.675624e-01 -9.522483e-01 -7.846378e-01  \n50%   -1.592246e-01  3.312687e-02  2.377348e-01 -2.337204e-01  \n75%    4.939560e-01  7.131644e-01  7.885875e-01  7.582494e-01  \nmax    3.435432e+00  3.301694e+00  1.960915e+00  2.971473e+00  "
     },
     "execution_count": 32,
     "metadata": {},
     "output_type": "execute_result"
    }
   ],
   "source": [
    "from sklearn.preprocessing import StandardScaler\n",
    "scaler = StandardScaler()\n",
    "scaler.fit(df)\n",
    "df = scaler.transform(df)\n",
    "df = pd.DataFrame(df)\n",
    "df.describe()"
   ]
  },
  {
   "cell_type": "markdown",
   "execution_count": null,
   "metadata": {},
   "outputs": [],
   "source": [
    "# Iris Dataset"
   ]
  },
  {
   "cell_type": "code",
   "execution_count": 33,
   "metadata": {},
   "outputs": [
    {
     "data": {
      "text/html": "<div>\n<style scoped>\n    .dataframe tbody tr th:only-of-type {\n        vertical-align: middle;\n    }\n\n    .dataframe tbody tr th {\n        vertical-align: top;\n    }\n\n    .dataframe thead th {\n        text-align: right;\n    }\n</style>\n<table border=\"1\" class=\"dataframe\">\n  <thead>\n    <tr style=\"text-align: right;\">\n      <th></th>\n      <th>Id</th>\n      <th>SepalLengthCm</th>\n      <th>SepalWidthCm</th>\n      <th>PetalLengthCm</th>\n      <th>PetalWidthCm</th>\n      <th>Species</th>\n    </tr>\n  </thead>\n  <tbody>\n    <tr>\n      <td>0</td>\n      <td>1</td>\n      <td>5.1</td>\n      <td>3.5</td>\n      <td>1.4</td>\n      <td>0.2</td>\n      <td>Iris-setosa</td>\n    </tr>\n    <tr>\n      <td>1</td>\n      <td>2</td>\n      <td>4.9</td>\n      <td>3.0</td>\n      <td>1.4</td>\n      <td>0.2</td>\n      <td>Iris-setosa</td>\n    </tr>\n    <tr>\n      <td>2</td>\n      <td>3</td>\n      <td>4.7</td>\n      <td>3.2</td>\n      <td>1.3</td>\n      <td>0.2</td>\n      <td>Iris-setosa</td>\n    </tr>\n    <tr>\n      <td>3</td>\n      <td>4</td>\n      <td>4.6</td>\n      <td>3.1</td>\n      <td>1.5</td>\n      <td>0.2</td>\n      <td>Iris-setosa</td>\n    </tr>\n    <tr>\n      <td>4</td>\n      <td>5</td>\n      <td>5.0</td>\n      <td>3.6</td>\n      <td>1.4</td>\n      <td>0.2</td>\n      <td>Iris-setosa</td>\n    </tr>\n  </tbody>\n</table>\n</div>",
      "text/plain": "   Id  SepalLengthCm  SepalWidthCm  PetalLengthCm  PetalWidthCm      Species\n0   1            5.1           3.5            1.4           0.2  Iris-setosa\n1   2            4.9           3.0            1.4           0.2  Iris-setosa\n2   3            4.7           3.2            1.3           0.2  Iris-setosa\n3   4            4.6           3.1            1.5           0.2  Iris-setosa\n4   5            5.0           3.6            1.4           0.2  Iris-setosa"
     },
     "execution_count": 33,
     "metadata": {},
     "output_type": "execute_result"
    }
   ],
   "source": [
    "df_iris = pd.read_csv('Iris.csv')\n",
    "df_iris.head()"
   ]
  },
  {
   "cell_type": "code",
   "execution_count": 35,
   "metadata": {},
   "outputs": [
    {
     "data": {
      "text/html": "<div>\n<style scoped>\n    .dataframe tbody tr th:only-of-type {\n        vertical-align: middle;\n    }\n\n    .dataframe tbody tr th {\n        vertical-align: top;\n    }\n\n    .dataframe thead th {\n        text-align: right;\n    }\n</style>\n<table border=\"1\" class=\"dataframe\">\n  <thead>\n    <tr style=\"text-align: right;\">\n      <th></th>\n      <th>Id</th>\n      <th>SepalLengthCm</th>\n      <th>SepalWidthCm</th>\n      <th>PetalLengthCm</th>\n      <th>PetalWidthCm</th>\n    </tr>\n  </thead>\n  <tbody>\n    <tr>\n      <td>0</td>\n      <td>1</td>\n      <td>5.1</td>\n      <td>3.5</td>\n      <td>1.4</td>\n      <td>0.2</td>\n    </tr>\n    <tr>\n      <td>1</td>\n      <td>2</td>\n      <td>4.9</td>\n      <td>3.0</td>\n      <td>1.4</td>\n      <td>0.2</td>\n    </tr>\n    <tr>\n      <td>2</td>\n      <td>3</td>\n      <td>4.7</td>\n      <td>3.2</td>\n      <td>1.3</td>\n      <td>0.2</td>\n    </tr>\n    <tr>\n      <td>3</td>\n      <td>4</td>\n      <td>4.6</td>\n      <td>3.1</td>\n      <td>1.5</td>\n      <td>0.2</td>\n    </tr>\n    <tr>\n      <td>4</td>\n      <td>5</td>\n      <td>5.0</td>\n      <td>3.6</td>\n      <td>1.4</td>\n      <td>0.2</td>\n    </tr>\n  </tbody>\n</table>\n</div>",
      "text/plain": "   Id  SepalLengthCm  SepalWidthCm  PetalLengthCm  PetalWidthCm\n0   1            5.1           3.5            1.4           0.2\n1   2            4.9           3.0            1.4           0.2\n2   3            4.7           3.2            1.3           0.2\n3   4            4.6           3.1            1.5           0.2\n4   5            5.0           3.6            1.4           0.2"
     },
     "execution_count": 35,
     "metadata": {},
     "output_type": "execute_result"
    }
   ],
   "source": [
    "X = df_iris.iloc[:, :-1]\n",
    "X.head()"
   ]
  },
  {
   "cell_type": "code",
   "execution_count": 36,
   "metadata": {},
   "outputs": [
    {
     "data": {
      "text/html": "<div>\n<style scoped>\n    .dataframe tbody tr th:only-of-type {\n        vertical-align: middle;\n    }\n\n    .dataframe tbody tr th {\n        vertical-align: top;\n    }\n\n    .dataframe thead th {\n        text-align: right;\n    }\n</style>\n<table border=\"1\" class=\"dataframe\">\n  <thead>\n    <tr style=\"text-align: right;\">\n      <th></th>\n      <th>Id</th>\n      <th>SepalLengthCm</th>\n      <th>SepalWidthCm</th>\n      <th>PetalLengthCm</th>\n      <th>PetalWidthCm</th>\n    </tr>\n  </thead>\n  <tbody>\n    <tr>\n      <td>count</td>\n      <td>150.000000</td>\n      <td>150.000000</td>\n      <td>150.000000</td>\n      <td>150.000000</td>\n      <td>150.000000</td>\n    </tr>\n    <tr>\n      <td>mean</td>\n      <td>75.500000</td>\n      <td>5.843333</td>\n      <td>3.054000</td>\n      <td>3.758667</td>\n      <td>1.198667</td>\n    </tr>\n    <tr>\n      <td>std</td>\n      <td>43.445368</td>\n      <td>0.828066</td>\n      <td>0.433594</td>\n      <td>1.764420</td>\n      <td>0.763161</td>\n    </tr>\n    <tr>\n      <td>min</td>\n      <td>1.000000</td>\n      <td>4.300000</td>\n      <td>2.000000</td>\n      <td>1.000000</td>\n      <td>0.100000</td>\n    </tr>\n    <tr>\n      <td>25%</td>\n      <td>38.250000</td>\n      <td>5.100000</td>\n      <td>2.800000</td>\n      <td>1.600000</td>\n      <td>0.300000</td>\n    </tr>\n    <tr>\n      <td>50%</td>\n      <td>75.500000</td>\n      <td>5.800000</td>\n      <td>3.000000</td>\n      <td>4.350000</td>\n      <td>1.300000</td>\n    </tr>\n    <tr>\n      <td>75%</td>\n      <td>112.750000</td>\n      <td>6.400000</td>\n      <td>3.300000</td>\n      <td>5.100000</td>\n      <td>1.800000</td>\n    </tr>\n    <tr>\n      <td>max</td>\n      <td>150.000000</td>\n      <td>7.900000</td>\n      <td>4.400000</td>\n      <td>6.900000</td>\n      <td>2.500000</td>\n    </tr>\n  </tbody>\n</table>\n</div>",
      "text/plain": "               Id  SepalLengthCm  SepalWidthCm  PetalLengthCm  PetalWidthCm\ncount  150.000000     150.000000    150.000000     150.000000    150.000000\nmean    75.500000       5.843333      3.054000       3.758667      1.198667\nstd     43.445368       0.828066      0.433594       1.764420      0.763161\nmin      1.000000       4.300000      2.000000       1.000000      0.100000\n25%     38.250000       5.100000      2.800000       1.600000      0.300000\n50%     75.500000       5.800000      3.000000       4.350000      1.300000\n75%    112.750000       6.400000      3.300000       5.100000      1.800000\nmax    150.000000       7.900000      4.400000       6.900000      2.500000"
     },
     "execution_count": 36,
     "metadata": {},
     "output_type": "execute_result"
    }
   ],
   "source": [
    "X.describe()"
   ]
  },
  {
   "cell_type": "code",
   "execution_count": 38,
   "metadata": {},
   "outputs": [
    {
     "data": {
      "text/html": "<div>\n<style scoped>\n    .dataframe tbody tr th:only-of-type {\n        vertical-align: middle;\n    }\n\n    .dataframe tbody tr th {\n        vertical-align: top;\n    }\n\n    .dataframe thead th {\n        text-align: right;\n    }\n</style>\n<table border=\"1\" class=\"dataframe\">\n  <thead>\n    <tr style=\"text-align: right;\">\n      <th></th>\n      <th>Id</th>\n      <th>SepalLengthCm</th>\n      <th>SepalWidthCm</th>\n      <th>PetalLengthCm</th>\n      <th>PetalWidthCm</th>\n    </tr>\n  </thead>\n  <tbody>\n    <tr>\n      <td>count</td>\n      <td>1.500000e+02</td>\n      <td>1.500000e+02</td>\n      <td>1.500000e+02</td>\n      <td>1.500000e+02</td>\n      <td>1.500000e+02</td>\n    </tr>\n    <tr>\n      <td>mean</td>\n      <td>2.220446e-17</td>\n      <td>-1.457168e-15</td>\n      <td>-1.722511e-15</td>\n      <td>-2.043551e-15</td>\n      <td>-9.843977e-17</td>\n    </tr>\n    <tr>\n      <td>std</td>\n      <td>1.000000e+00</td>\n      <td>1.000000e+00</td>\n      <td>1.000000e+00</td>\n      <td>1.000000e+00</td>\n      <td>1.000000e+00</td>\n    </tr>\n    <tr>\n      <td>min</td>\n      <td>-1.714797e+00</td>\n      <td>-1.863780e+00</td>\n      <td>-2.430844e+00</td>\n      <td>-1.563497e+00</td>\n      <td>-1.439627e+00</td>\n    </tr>\n    <tr>\n      <td>25%</td>\n      <td>-8.573987e-01</td>\n      <td>-8.976739e-01</td>\n      <td>-5.858010e-01</td>\n      <td>-1.223442e+00</td>\n      <td>-1.177559e+00</td>\n    </tr>\n    <tr>\n      <td>50%</td>\n      <td>0.000000e+00</td>\n      <td>-5.233076e-02</td>\n      <td>-1.245404e-01</td>\n      <td>3.351431e-01</td>\n      <td>1.327811e-01</td>\n    </tr>\n    <tr>\n      <td>75%</td>\n      <td>8.573987e-01</td>\n      <td>6.722490e-01</td>\n      <td>5.673506e-01</td>\n      <td>7.602119e-01</td>\n      <td>7.879511e-01</td>\n    </tr>\n    <tr>\n      <td>max</td>\n      <td>1.714797e+00</td>\n      <td>2.483699e+00</td>\n      <td>3.104284e+00</td>\n      <td>1.780377e+00</td>\n      <td>1.705189e+00</td>\n    </tr>\n  </tbody>\n</table>\n</div>",
      "text/plain": "                 Id  SepalLengthCm  SepalWidthCm  PetalLengthCm  PetalWidthCm\ncount  1.500000e+02   1.500000e+02  1.500000e+02   1.500000e+02  1.500000e+02\nmean   2.220446e-17  -1.457168e-15 -1.722511e-15  -2.043551e-15 -9.843977e-17\nstd    1.000000e+00   1.000000e+00  1.000000e+00   1.000000e+00  1.000000e+00\nmin   -1.714797e+00  -1.863780e+00 -2.430844e+00  -1.563497e+00 -1.439627e+00\n25%   -8.573987e-01  -8.976739e-01 -5.858010e-01  -1.223442e+00 -1.177559e+00\n50%    0.000000e+00  -5.233076e-02 -1.245404e-01   3.351431e-01  1.327811e-01\n75%    8.573987e-01   6.722490e-01  5.673506e-01   7.602119e-01  7.879511e-01\nmax    1.714797e+00   2.483699e+00  3.104284e+00   1.780377e+00  1.705189e+00"
     },
     "execution_count": 38,
     "metadata": {},
     "output_type": "execute_result"
    }
   ],
   "source": [
    "X_standardized = X.apply(lambda x: (x - x.mean()) / x.std())\n",
    "X_standardized.describe()"
   ]
  }
 ]
}